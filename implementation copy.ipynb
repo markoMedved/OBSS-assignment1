{
 "cells": [
  {
   "cell_type": "code",
   "execution_count": 1,
   "metadata": {},
   "outputs": [],
   "source": [
    "import scipy.signal as signal\n",
    "import numpy as np\n",
    "import matplotlib.pyplot as plt\n",
    "import wfdb"
   ]
  },
  {
   "cell_type": "code",
   "execution_count": 2,
   "metadata": {},
   "outputs": [],
   "source": [
    "#popravki - lahko rajš paddaš kot skippaš\n",
    "\n",
    "def haar_filter(x,fs):\n",
    "    #constants\n",
    "    B1 = int(0.025*fs)\n",
    "    B2 = int(0.06*fs)\n",
    "    c = 2 * (B2 - B1)/(2*B1 +1)\n",
    "    #signals\n",
    "    y1 = np.zeros(len(x))\n",
    "    y2= np.zeros(len(x))\n",
    "    y = np.zeros(len(x))\n",
    "    tmp= np.zeros(B2)\n",
    "    x_padded = np.concatenate((tmp,x,tmp))\n",
    "    #go through samples\n",
    "    for i in range(len(y)):\n",
    "        #plus B2 in x[] is because of padding\n",
    "        y1[i] = (c+1)*(x_padded[i+B1 + B2] - x_padded[i-B1 +B2]) + y1[i-1]\n",
    "        y2[i] = -(x_padded[i+B2 + B2] - x_padded[i-B2 + B2] + y2[i-1])\n",
    "        y[i] = y1[i] + y2[i]\n",
    "\n",
    "    return y"
   ]
  },
  {
   "cell_type": "code",
   "execution_count": 3,
   "metadata": {},
   "outputs": [],
   "source": [
    "def get_candidates(y,x_no_baseline, fs, c1 = 0.55):\n",
    "    x2 = np.zeros(len(x_no_baseline))\n",
    "    #fill x2 by the formula from paper\n",
    "    x2[1:len(x_no_baseline)-1] = np.array( [2 * x_no_baseline[n] - x_no_baseline[n+1] - x_no_baseline[n-1] for n in range(1, len(x_no_baseline)-1)] )\n",
    "    #calculate s\n",
    "    s = np.array([y[n]*(x_no_baseline[n] + c1*x2[n]) for n in range(len(y))])\n",
    "    #tmp just to find the correct range of checking\n",
    "    tmp = int(0.2*fs)\n",
    "    #find candidates\n",
    "    candidates =[]\n",
    "    for k in range(tmp, len(s)-tmp):\n",
    "        for n in range(-tmp, tmp):\n",
    "            if np.abs(s[k]) < np.abs(s[k+n]):\n",
    "                break\n",
    "            elif n == tmp-1:\n",
    "                candidates.append(k)\n",
    "\n",
    "    return candidates, s"
   ]
  },
  {
   "cell_type": "code",
   "execution_count": 4,
   "metadata": {},
   "outputs": [],
   "source": [
    "#še popravki - skippam če jih ni 5 še prepoznanih (za W1 in W2) - da se bolš nrdit\n",
    "\n",
    "\n",
    "def detect_beats(s,x_no_baseline,candidates, fs, T=0.1, beta1=0.5, beta2=0.5, taus=[0.08,  0.12, 0.2, 0.25, 0.35], omega_treshold = 0.1):\n",
    "    \n",
    "    #current s in the window\n",
    "    s_current = []\n",
    "    #window size\n",
    "    seconds_window = 10\n",
    "    samples_window = fs*seconds_window\n",
    "\n",
    "    #recent detected number\n",
    "    recent_detected_num = 5\n",
    "\n",
    "    #detected beats\n",
    "    detected = []\n",
    "\n",
    "    #for every candidate\n",
    "    for i in candidates:\n",
    "        s_current = []\n",
    "        for j in range(i-samples_window, i):\n",
    "            #skip if out of range\n",
    "            if j < 0:\n",
    "                continue\n",
    "            s_current.append(abs(s[j]))\n",
    "\n",
    "        #calculate W1\n",
    "        W1 = T\n",
    "        if len(s_current) > 5:\n",
    "            W1 = sorted(s_current)[-5] +T\n",
    "            \n",
    "\n",
    "        #calculate W2\n",
    "        W2 = beta1\n",
    "        det_len = len(detected)\n",
    "        #only if there is at least 5 detected beats\n",
    "        if det_len > 5:\n",
    "            recent_det = detected[det_len - recent_detected_num: det_len]\n",
    "\n",
    "            mew = np.mean([recent_det[i] - recent_det[i+1] for i in range(3)])\n",
    "\n",
    "\n",
    "            \n",
    "            if recent_det[-2] - recent_det[-3] < 0.7*mew and det_len > 6:\n",
    "              \n",
    "                tmp = recent_det\n",
    "\n",
    "                recent_det = [detected[-6]]\n",
    "                recent_det.extend(tmp[:-1])\n",
    "\n",
    "            recent_det.append(i)\n",
    "                \n",
    "\n",
    "            Ie = sum([taus[i] * (recent_det[i] - recent_det[i+1]) for i in range(5)])\n",
    "\n",
    "            \n",
    "            W2 = beta1 + beta2 * abs((i - recent_det[0])/Ie - round((i - recent_det[0])/Ie))\n",
    "            \n",
    "        treshold = W1*W2\n",
    "\n",
    "\n",
    "        omega = 1/2\n",
    "        if i - int(0.1*fs) > 0:\n",
    "            tmp_list=  [x_no_baseline[j] for j in range(i - int(0.1*fs), i + int(0.1*fs))]\n",
    "            u1 = max(tmp_list) - min(tmp_list)\n",
    "            u2 = sum([abs(x_no_baseline[j] - x_no_baseline[j-1]) for j in range(i - int(0.1*fs), i + int(0.1*fs))])\n",
    "            omega = u1/u2\n",
    "\n",
    "      \n",
    "        if s[i] > treshold:\n",
    "            \n",
    "            if omega > omega_treshold:\n",
    "                detected.append(i)\n",
    "            else:\n",
    "                print(omega, omega_treshold, i)\n",
    "\n",
    "        #else :\n",
    "            #print(s[i], treshold, i)\n",
    "\n",
    "    return detected\n"
   ]
  },
  {
   "cell_type": "code",
   "execution_count": 34,
   "metadata": {},
   "outputs": [
    {
     "data": {
      "text/plain": [
       "[<matplotlib.lines.Line2D at 0x2e85b63f190>]"
      ]
     },
     "execution_count": 34,
     "metadata": {},
     "output_type": "execute_result"
    },
    {
     "data": {

      "text/plain": [
       "<Figure size 640x480 with 1 Axes>"
      ]
     },
     "metadata": {},
     "output_type": "display_data"
    }
   ],
   "source": [
    "#read signal\n",
    "record_num = \"105\"\n",
    "sig = wfdb.rdsamp(\"mit-bih-data/\" + record_num)\n",
    "x_both = sig[0][:5000].flatten()\n",
    "x = x_both[0::2]\n",
    "#read sampling frequency\n",
    "fs = wfdb.rdsamp(\"mit-bih-data/\" + record_num)[1]['fs']\n",
    "#read annotation file\n",
    "record_name = 'mit-bih-data/' + record_num\n",
    "annotation = wfdb.rdann(record_name, 'atr')\n",
    "beat_peaks = annotation.sample[:]\n",
    "#get rid of baseline\n",
    "butter_filter = signal.butter(3, 0.6, 'high', fs=fs, output='sos')\n",
    "x_no_baseline = signal.sosfilt(butter_filter, x)\n",
    "#apply haar filter\n",
    "y = haar_filter(x_no_baseline,fs)\n",
    "plt.plot(x*30)\n",
    "plt.plot(y)"
   ]
  },
  {
   "cell_type": "code",
   "execution_count": 35,
   "metadata": {},
   "outputs": [
    {
     "data": {
      "text/plain": [
       "[<matplotlib.lines.Line2D at 0x2e85b693940>]"
      ]
     },
     "execution_count": 35,
     "metadata": {},
     "output_type": "execute_result"
    },
    {
     "data": {

      "text/plain": [
       "<Figure size 640x480 with 1 Axes>"
      ]
     },
     "metadata": {},
     "output_type": "display_data"
    }
   ],
   "source": [
    "candidates,s = get_candidates(y,x_no_baseline,fs)\n",
    "plt.plot(s)\n",
    "plt.plot(candidates, [s[n] for n in candidates], 'ro')"
   ]
  },
  {
   "cell_type": "code",
   "execution_count": 36,
   "metadata": {},
   "outputs": [
    {
     "data": {
      "text/plain": [
       "[<matplotlib.lines.Line2D at 0x2e85b7c1550>]"
      ]
     },
     "execution_count": 36,
     "metadata": {},
     "output_type": "execute_result"
    },
    {
     "data": {

      "text/plain": [
       "<Figure size 640x480 with 1 Axes>"
      ]
     },
     "metadata": {},
     "output_type": "display_data"
    }
   ],
   "source": [
    "detected = detect_beats(s,x_no_baseline,candidates, fs)\n",
    "plt.plot(s)\n",
    "plt.plot(detected, [s[n] for n in detected], 'ro')\n",
    "plt.plot(annotation.sample[:len(detected)], [s[n] for n in detected], 'bo')"
   ]
  },
  {
   "cell_type": "code",
   "execution_count": 8,
   "metadata": {},
   "outputs": [],
   "source": [
    "#read signal\n",
    "database = \"mit-bih-data\"\n",
    "record_num = \"101\"\n",
    "sig = wfdb.rdsamp(database+ \"/\" + record_num)\n",
    "x_both = sig[0][:].flatten()\n",
    "x = x_both[0::2]\n",
    "x2 = x_both[1::2]\n",
    "#read sampling frequency\n",
    "fs = wfdb.rdsamp(database + \"/\"+ record_num)[1]['fs']\n",
    "#read annotation file\n",
    "record_name = database+ \"/\" + record_num\n",
    "annotation = wfdb.rdann(record_name, 'atr')\n",
    "beat_peaks = annotation.sample[:]\n",
    "#get rid of baseline\n",
    "butter_filter = signal.butter(3, 0.6, 'high', fs=fs, output='sos')\n",
    "x_no_baseline = signal.sosfilt(butter_filter, x)\n",
    "x2_no_baseline = signal.sosfilt(butter_filter, x2)\n",
    "#apply haar filter\n",
    "y = haar_filter(x_no_baseline,fs)\n",
    "y2 = haar_filter(x2_no_baseline,fs)\n",
    "\n",
    "\n"
   ]
  },
  {
   "cell_type": "code",
   "execution_count": 9,
   "metadata": {},
   "outputs": [],
   "source": [
    "candidates,s = get_candidates(y,x_no_baseline,fs)\n",
    "#candidates2,s2 = get_candidates(y2,x2_no_baseline,fs)"
   ]
  },
  {
   "cell_type": "code",
   "execution_count": 10,
   "metadata": {},
   "outputs": [],
   "source": [
    "detected = detect_beats(s,x_no_baseline,candidates, fs, T=1, beta2=0.1, beta1=0.2)\n",
    "#detected2 = detect_beats(s2,x2_no_baseline,candidates2, fs, T=1, beta2=0.1, beta1=0.2)"
   ]
  },
  {
   "cell_type": "code",
   "execution_count": 12,
   "metadata": {},
   "outputs": [
    {
     "name": "stdout",
     "output_type": "stream",
     "text": [
      "Not detected: 20\n",
      "Falsely detected: 6\n",
      "Sensitivity: 0.9893276414087513\n",
      "Positive predictivity: 0.9967741935483871\n",
      "[7, 40603, 40884, 41930, 63096, 63631, 114705, 115124, 115478, 115742, 116091, 116436, 116769, 117098, 117433, 117779, 118144, 118512, 118853, 308294]\n",
      "[183, 63107, 63551, 115174, 115310, 308251]\n"
     ]
    }
   ],
   "source": [
    "#tolerance for beat detection of 5 samples\n",
    "tolerance = 10\n",
    "\n",
    "not_detected = []\n",
    "for i in beat_peaks:\n",
    "    for j in range(i-tolerance, i+tolerance+1):\n",
    "        if j in detected :\n",
    "            break\n",
    "    if j == i+tolerance:\n",
    "        not_detected.append(i)\n",
    "        #print(i)\n",
    "\n",
    "\n",
    "falsely_detected = []\n",
    "for i in detected:\n",
    "    for j in range(i-tolerance, i+tolerance+1):\n",
    "        if j in beat_peaks:\n",
    "            break\n",
    "    if j == i+tolerance:\n",
    "        falsely_detected.append(i)\n",
    "\n",
    "\n",
    "print('Not detected:', len(not_detected))\n",
    "print('Falsely detected:', len(falsely_detected))\n",
    "\n",
    "SE = (len(detected) - len(falsely_detected))/len(beat_peaks)\n",
    "PP = (len(detected) - len(falsely_detected))/len(detected) \n",
    "print('Sensitivity:', SE)\n",
    "print('Positive predictivity:', PP)\n",
    "print(not_detected)\n",
    "print(falsely_detected)\n"
   ]
  },
  {
   "cell_type": "code",
   "execution_count": 16,
   "metadata": {},
   "outputs": [
    {
     "data": {
      "text/plain": [
       "[<matplotlib.lines.Line2D at 0x2e8584f9df0>]"
      ]
     },
     "execution_count": 16,
     "metadata": {},
     "output_type": "execute_result"
    },
    {
     "data": {

      "text/plain": [
       "<Figure size 640x480 with 1 Axes>"
      ]
     },
     "metadata": {},
     "output_type": "display_data"
    }
   ],
   "source": [
    "start_int = 40000\n",
    "end_int = start_int + 5000\n",
    "plt.plot(range(start_int, end_int), x[start_int:end_int])\n",
    "detected_interval = [n for n in detected if n > start_int and n < end_int]\n",
    "#plt.plot(detected_interval, [x[n] for n in detected_interval], 'ro')\n",
    "beat_peaks_interval = [n for n in beat_peaks if n > start_int and n < end_int]\n",
    "plt.plot(beat_peaks_interval, [x[n] + 0.2 for n in beat_peaks_interval], 'bo')"
   ]
  },
  {
   "cell_type": "code",
   "execution_count": 206,
   "metadata": {},
   "outputs": [
    {
     "name": "stdout",
     "output_type": "stream",
     "text": [
      "Not detected: 5\n",
      "Falsely detected: 0\n",
      "Sensitivity: 0.9978012313104662\n",
      "Positive predictivity: 1.0\n",
      "Not detected: 20\n",
      "Falsely detected: 5\n",
      "Sensitivity: 0.9893276414087513\n",
      "Positive predictivity: 0.9973103819257665\n",
      "Not detected: 70\n",
      "Falsely detected: 64\n",
      "Sensitivity: 0.9671532846715328\n",
      "Positive predictivity: 0.9706959706959707\n",
      "Not detected: 10\n",
      "Falsely detected: 1\n",
      "Sensitivity: 0.9952175992348159\n",
      "Positive predictivity: 0.9995196926032661\n",
      "Not detected: 285\n",
      "Falsely detected: 218\n",
      "Sensitivity: 0.8697533535266119\n",
      "Positive predictivity: 0.9021543985637342\n",
      "Not detected: 302\n",
      "Falsely detected: 143\n",
      "Sensitivity: 0.887402452619844\n",
      "Positive predictivity: 0.9435005926511261\n",
      "Not detected: 361\n",
      "Falsely detected: 523\n",
      "Sensitivity: 0.8274547187797903\n",
      "Positive predictivity: 0.768481629039398\n",
      "Not detected: 56\n",
      "Falsely detected: 1786\n",
      "Sensitivity: 0.927570093457944\n",
      "Positive predictivity: 0.526385574118271\n",
      "Not detected: 490\n",
      "Falsely detected: 549\n",
      "Sensitivity: 0.6858552631578947\n",
      "Positive predictivity: 0.695\n",
      "Not detected: 100\n",
      "Falsely detected: 113\n",
      "Sensitivity: 0.9538461538461539\n",
      "Positive predictivity: 0.9553536151718688\n"
     ]
    },
    {
     "ename": "FileNotFoundError",
     "evalue": "[Errno 2] No such file or directory: 'c:\\\\Users\\\\marko\\\\Desktop\\\\biomedical_signal_processing\\\\OBSS-assignment1\\\\mit-bih-data\\\\110.hea'",
     "output_type": "error",
     "traceback": [
      "\u001b[1;31m---------------------------------------------------------------------------\u001b[0m",
      "\u001b[1;31mFileNotFoundError\u001b[0m                         Traceback (most recent call last)",
      "Cell \u001b[1;32mIn[206], line 4\u001b[0m\n\u001b[0;32m      1\u001b[0m \u001b[38;5;28;01mfor\u001b[39;00m i \u001b[38;5;129;01min\u001b[39;00m \u001b[38;5;28mrange\u001b[39m(\u001b[38;5;241m24\u001b[39m):\n\u001b[0;32m      2\u001b[0m     \u001b[38;5;66;03m#read signal\u001b[39;00m\n\u001b[0;32m      3\u001b[0m     record_num \u001b[38;5;241m=\u001b[39m \u001b[38;5;28mstr\u001b[39m(\u001b[38;5;241m100\u001b[39m \u001b[38;5;241m+\u001b[39m i)\t\n\u001b[1;32m----> 4\u001b[0m     sig \u001b[38;5;241m=\u001b[39m \u001b[43mwfdb\u001b[49m\u001b[38;5;241;43m.\u001b[39;49m\u001b[43mrdsamp\u001b[49m\u001b[43m(\u001b[49m\u001b[38;5;124;43m\"\u001b[39;49m\u001b[38;5;124;43mmit-bih-data/\u001b[39;49m\u001b[38;5;124;43m\"\u001b[39;49m\u001b[43m \u001b[49m\u001b[38;5;241;43m+\u001b[39;49m\u001b[43m \u001b[49m\u001b[43mrecord_num\u001b[49m\u001b[43m)\u001b[49m\n\u001b[0;32m      5\u001b[0m     x_both \u001b[38;5;241m=\u001b[39m sig[\u001b[38;5;241m0\u001b[39m][:]\u001b[38;5;241m.\u001b[39mflatten()\n\u001b[0;32m      6\u001b[0m     x \u001b[38;5;241m=\u001b[39m x_both[\u001b[38;5;241m0\u001b[39m::\u001b[38;5;241m2\u001b[39m]\n",
      "File \u001b[1;32mc:\\Users\\marko\\miniconda3\\envs\\obss\\lib\\site-packages\\wfdb\\io\\record.py:2317\u001b[0m, in \u001b[0;36mrdsamp\u001b[1;34m(record_name, sampfrom, sampto, channels, pn_dir, channel_names, warn_empty, return_res)\u001b[0m\n\u001b[0;32m   2312\u001b[0m     dir_list \u001b[38;5;241m=\u001b[39m pn_dir\u001b[38;5;241m.\u001b[39msplit(\u001b[38;5;124m\"\u001b[39m\u001b[38;5;124m/\u001b[39m\u001b[38;5;124m\"\u001b[39m)\n\u001b[0;32m   2313\u001b[0m     pn_dir \u001b[38;5;241m=\u001b[39m posixpath\u001b[38;5;241m.\u001b[39mjoin(\n\u001b[0;32m   2314\u001b[0m         dir_list[\u001b[38;5;241m0\u001b[39m], download\u001b[38;5;241m.\u001b[39mget_version(dir_list[\u001b[38;5;241m0\u001b[39m]), \u001b[38;5;241m*\u001b[39mdir_list[\u001b[38;5;241m1\u001b[39m:]\n\u001b[0;32m   2315\u001b[0m     )\n\u001b[1;32m-> 2317\u001b[0m record \u001b[38;5;241m=\u001b[39m \u001b[43mrdrecord\u001b[49m\u001b[43m(\u001b[49m\n\u001b[0;32m   2318\u001b[0m \u001b[43m    \u001b[49m\u001b[43mrecord_name\u001b[49m\u001b[38;5;241;43m=\u001b[39;49m\u001b[43mrecord_name\u001b[49m\u001b[43m,\u001b[49m\n\u001b[0;32m   2319\u001b[0m \u001b[43m    \u001b[49m\u001b[43msampfrom\u001b[49m\u001b[38;5;241;43m=\u001b[39;49m\u001b[43msampfrom\u001b[49m\u001b[43m,\u001b[49m\n\u001b[0;32m   2320\u001b[0m \u001b[43m    \u001b[49m\u001b[43msampto\u001b[49m\u001b[38;5;241;43m=\u001b[39;49m\u001b[43msampto\u001b[49m\u001b[43m,\u001b[49m\n\u001b[0;32m   2321\u001b[0m \u001b[43m    \u001b[49m\u001b[43mchannels\u001b[49m\u001b[38;5;241;43m=\u001b[39;49m\u001b[43mchannels\u001b[49m\u001b[43m,\u001b[49m\n\u001b[0;32m   2322\u001b[0m \u001b[43m    \u001b[49m\u001b[43mphysical\u001b[49m\u001b[38;5;241;43m=\u001b[39;49m\u001b[38;5;28;43;01mTrue\u001b[39;49;00m\u001b[43m,\u001b[49m\n\u001b[0;32m   2323\u001b[0m \u001b[43m    \u001b[49m\u001b[43mpn_dir\u001b[49m\u001b[38;5;241;43m=\u001b[39;49m\u001b[43mpn_dir\u001b[49m\u001b[43m,\u001b[49m\n\u001b[0;32m   2324\u001b[0m \u001b[43m    \u001b[49m\u001b[43mm2s\u001b[49m\u001b[38;5;241;43m=\u001b[39;49m\u001b[38;5;28;43;01mTrue\u001b[39;49;00m\u001b[43m,\u001b[49m\n\u001b[0;32m   2325\u001b[0m \u001b[43m    \u001b[49m\u001b[43mreturn_res\u001b[49m\u001b[38;5;241;43m=\u001b[39;49m\u001b[43mreturn_res\u001b[49m\u001b[43m,\u001b[49m\n\u001b[0;32m   2326\u001b[0m \u001b[43m    \u001b[49m\u001b[43mchannel_names\u001b[49m\u001b[38;5;241;43m=\u001b[39;49m\u001b[43mchannel_names\u001b[49m\u001b[43m,\u001b[49m\n\u001b[0;32m   2327\u001b[0m \u001b[43m    \u001b[49m\u001b[43mwarn_empty\u001b[49m\u001b[38;5;241;43m=\u001b[39;49m\u001b[43mwarn_empty\u001b[49m\u001b[43m,\u001b[49m\n\u001b[0;32m   2328\u001b[0m \u001b[43m\u001b[49m\u001b[43m)\u001b[49m\n\u001b[0;32m   2330\u001b[0m signals \u001b[38;5;241m=\u001b[39m record\u001b[38;5;241m.\u001b[39mp_signal\n\u001b[0;32m   2331\u001b[0m fields \u001b[38;5;241m=\u001b[39m {}\n",
      "File \u001b[1;32mc:\\Users\\marko\\miniconda3\\envs\\obss\\lib\\site-packages\\wfdb\\io\\record.py:2029\u001b[0m, in \u001b[0;36mrdrecord\u001b[1;34m(record_name, sampfrom, sampto, channels, physical, pn_dir, m2s, smooth_frames, ignore_skew, return_res, force_channels, channel_names, warn_empty)\u001b[0m\n\u001b[0;32m   2024\u001b[0m     dir_list \u001b[38;5;241m=\u001b[39m pn_dir\u001b[38;5;241m.\u001b[39msplit(\u001b[38;5;124m\"\u001b[39m\u001b[38;5;124m/\u001b[39m\u001b[38;5;124m\"\u001b[39m)\n\u001b[0;32m   2025\u001b[0m     pn_dir \u001b[38;5;241m=\u001b[39m posixpath\u001b[38;5;241m.\u001b[39mjoin(\n\u001b[0;32m   2026\u001b[0m         dir_list[\u001b[38;5;241m0\u001b[39m], download\u001b[38;5;241m.\u001b[39mget_version(dir_list[\u001b[38;5;241m0\u001b[39m]), \u001b[38;5;241m*\u001b[39mdir_list[\u001b[38;5;241m1\u001b[39m:]\n\u001b[0;32m   2027\u001b[0m     )\n\u001b[1;32m-> 2029\u001b[0m record \u001b[38;5;241m=\u001b[39m \u001b[43mrdheader\u001b[49m\u001b[43m(\u001b[49m\u001b[43mrecord_name\u001b[49m\u001b[43m,\u001b[49m\u001b[43m \u001b[49m\u001b[43mpn_dir\u001b[49m\u001b[38;5;241;43m=\u001b[39;49m\u001b[43mpn_dir\u001b[49m\u001b[43m,\u001b[49m\u001b[43m \u001b[49m\u001b[43mrd_segments\u001b[49m\u001b[38;5;241;43m=\u001b[39;49m\u001b[38;5;28;43;01mFalse\u001b[39;49;00m\u001b[43m)\u001b[49m\n\u001b[0;32m   2031\u001b[0m \u001b[38;5;66;03m# Set defaults for sampto and channels input variables\u001b[39;00m\n\u001b[0;32m   2032\u001b[0m \u001b[38;5;28;01mif\u001b[39;00m sampto \u001b[38;5;129;01mis\u001b[39;00m \u001b[38;5;28;01mNone\u001b[39;00m:\n\u001b[0;32m   2033\u001b[0m     \u001b[38;5;66;03m# If the header does not contain the signal length, figure it\u001b[39;00m\n\u001b[0;32m   2034\u001b[0m     \u001b[38;5;66;03m# out from the first dat file. This is only possible for single\u001b[39;00m\n\u001b[0;32m   2035\u001b[0m     \u001b[38;5;66;03m# segment records. If there are no signals, sig_len is 0.\u001b[39;00m\n",
      "File \u001b[1;32mc:\\Users\\marko\\miniconda3\\envs\\obss\\lib\\site-packages\\wfdb\\io\\record.py:1839\u001b[0m, in \u001b[0;36mrdheader\u001b[1;34m(record_name, pn_dir, rd_segments)\u001b[0m\n\u001b[0;32m   1837\u001b[0m file_name \u001b[38;5;241m=\u001b[39m \u001b[38;5;124mf\u001b[39m\u001b[38;5;124m\"\u001b[39m\u001b[38;5;132;01m{\u001b[39;00mbase_record_name\u001b[38;5;132;01m}\u001b[39;00m\u001b[38;5;124m.hea\u001b[39m\u001b[38;5;124m\"\u001b[39m\n\u001b[0;32m   1838\u001b[0m \u001b[38;5;28;01mif\u001b[39;00m pn_dir \u001b[38;5;129;01mis\u001b[39;00m \u001b[38;5;28;01mNone\u001b[39;00m:\n\u001b[1;32m-> 1839\u001b[0m     \u001b[38;5;28;01mwith\u001b[39;00m \u001b[38;5;28;43mopen\u001b[39;49m\u001b[43m(\u001b[49m\n\u001b[0;32m   1840\u001b[0m \u001b[43m        \u001b[49m\u001b[43mos\u001b[49m\u001b[38;5;241;43m.\u001b[39;49m\u001b[43mpath\u001b[49m\u001b[38;5;241;43m.\u001b[39;49m\u001b[43mjoin\u001b[49m\u001b[43m(\u001b[49m\u001b[43mdir_name\u001b[49m\u001b[43m,\u001b[49m\u001b[43m \u001b[49m\u001b[43mfile_name\u001b[49m\u001b[43m)\u001b[49m\u001b[43m,\u001b[49m\n\u001b[0;32m   1841\u001b[0m \u001b[43m        \u001b[49m\u001b[38;5;124;43m\"\u001b[39;49m\u001b[38;5;124;43mr\u001b[39;49m\u001b[38;5;124;43m\"\u001b[39;49m\u001b[43m,\u001b[49m\n\u001b[0;32m   1842\u001b[0m \u001b[43m        \u001b[49m\u001b[43mencoding\u001b[49m\u001b[38;5;241;43m=\u001b[39;49m\u001b[38;5;124;43m\"\u001b[39;49m\u001b[38;5;124;43mascii\u001b[39;49m\u001b[38;5;124;43m\"\u001b[39;49m\u001b[43m,\u001b[49m\n\u001b[0;32m   1843\u001b[0m \u001b[43m        \u001b[49m\u001b[43merrors\u001b[49m\u001b[38;5;241;43m=\u001b[39;49m\u001b[38;5;124;43m\"\u001b[39;49m\u001b[38;5;124;43mignore\u001b[39;49m\u001b[38;5;124;43m\"\u001b[39;49m\u001b[43m,\u001b[49m\n\u001b[0;32m   1844\u001b[0m \u001b[43m    \u001b[49m\u001b[43m)\u001b[49m \u001b[38;5;28;01mas\u001b[39;00m f:\n\u001b[0;32m   1845\u001b[0m         header_content \u001b[38;5;241m=\u001b[39m f\u001b[38;5;241m.\u001b[39mread()\n\u001b[0;32m   1846\u001b[0m \u001b[38;5;28;01melse\u001b[39;00m:\n",
      "\u001b[1;31mFileNotFoundError\u001b[0m: [Errno 2] No such file or directory: 'c:\\\\Users\\\\marko\\\\Desktop\\\\biomedical_signal_processing\\\\OBSS-assignment1\\\\mit-bih-data\\\\110.hea'"
     ]
    }
   ],
   "source": [
    "for i in range(24):\n",
    "    #read signal\n",
    "    record_num = str(100 + i)\t\n",
    "    sig = wfdb.rdsamp(\"mit-bih-data/\" + record_num)\n",
    "    x_both = sig[0][:].flatten()\n",
    "    x = x_both[0::2]\n",
    "    #read sampling frequency\n",
    "    fs = wfdb.rdsamp(\"mit-bih-data/\" + record_num)[1]['fs']\n",
    "    #read annotation file\n",
    "    record_name = 'mit-bih-data/' + record_num\n",
    "    annotation = wfdb.rdann(record_name, 'atr')\n",
    "    beat_peaks = annotation.sample[:]\n",
    "    #get rid of baseline\n",
    "    butter_filter = signal.butter(3, 0.6, 'high', fs=fs, output='sos')\n",
    "    x_no_baseline = signal.sosfilt(butter_filter, x)\n",
    "    #apply haar filter\n",
    "    y = haar_filter(x_no_baseline,fs)\n",
    "    candidates,s = get_candidates(y,x_no_baseline,fs)\n",
    "    detected = detect_beats(s,x_no_baseline,candidates, fs, T=5, beta2=0.01, beta1=0.2)\n",
    "    #tolerance for beat detection of 5 samples\n",
    "    tolerance = 5\n",
    "\n",
    "    not_detected = []\n",
    "    for i in beat_peaks:\n",
    "        for j in range(i-tolerance, i+tolerance+1):\n",
    "            if j in detected:\n",
    "                break\n",
    "        if j == i+tolerance:\n",
    "            not_detected.append(i)\n",
    "            #print(i)\n",
    "\n",
    "    falsely_detected = []\n",
    "    for i in detected:\n",
    "        for j in range(i-tolerance, i+tolerance+1):\n",
    "            if j in beat_peaks:\n",
    "                break\n",
    "        if j == i+tolerance:\n",
    "            falsely_detected.append(i)\n",
    "\n",
    "    print('Not detected:', len(not_detected))\n",
    "    print('Falsely detected:', len(falsely_detected))\n",
    "\n",
    "    SE = (len(detected) - len(falsely_detected))/len(beat_peaks)\n",
    "    PP = (len(detected) - len(falsely_detected))/len(detected) \n",
    "    print('Sensitivity:', SE)\n",
    "    print('Positive predictivity:', PP)\n",
    "\n",
    "    "
   ]
  }
 ],
 "metadata": {
  "kernelspec": {
   "display_name": "obss",
   "language": "python",
   "name": "python3"
  },
  "language_info": {
   "codemirror_mode": {
    "name": "ipython",
    "version": 3
   },
   "file_extension": ".py",
   "mimetype": "text/x-python",
   "name": "python",
   "nbconvert_exporter": "python",
   "pygments_lexer": "ipython3",
   "version": "3.8.20"
  }
 },
 "nbformat": 4,
 "nbformat_minor": 2
}
